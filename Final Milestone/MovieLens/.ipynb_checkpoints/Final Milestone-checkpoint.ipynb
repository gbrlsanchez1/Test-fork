{
 "cells": [
  {
   "cell_type": "code",
   "execution_count": 6,
   "metadata": {
    "collapsed": true
   },
   "outputs": [],
   "source": [
    "from collections import defaultdict\n",
    "from datetime import datetime\n",
    "from math import sqrt\n",
    "\n",
    "import numpy as np\n",
    "import pandas as pd\n",
    "\n",
    "%matplotlib inline"
   ]
  },
  {
   "cell_type": "markdown",
   "metadata": {},
   "source": [
    "# Read data"
   ]
  },
  {
   "cell_type": "code",
   "execution_count": 8,
   "metadata": {
    "collapsed": false
   },
   "outputs": [],
   "source": [
    "def read_ratings_df():\n",
    "    date_parser = lambda time_in_secs: datetime.utcfromtimestamp(float(time_in_secs))\n",
    "    return pd.read_csv('ml-latest-small/ratings.csv', parse_dates=['timestamp'], date_parser=date_parser)\n",
    "\n",
    "\n",
    "class MovieData(object):\n",
    "    def __init__(self):\n",
    "        self.ratings_df = read_ratings_df()\n",
    "        self.ratings = defaultdict(dict)\n",
    "        self.init_ratings()\n",
    "\n",
    "    def init_ratings(self):\n",
    "        for _, row in self.ratings_df.iterrows():\n",
    "            self.ratings[row['userId']][row['movieId']] = row\n",
    "\n",
    "    def get_movies(self, user_id):\n",
    "        return set(self.ratings[user_id].keys())\n",
    "\n",
    "    def get_shared_ratings(self, user1_id, user2_id):\n",
    "        movies1 = self.get_movies(user1_id)\n",
    "        movies2 = self.get_movies(user2_id)\n",
    "\n",
    "        shared_movies = movies1 & movies2\n",
    "\n",
    "        ratings = {}\n",
    "\n",
    "        for movie_id in shared_movies:\n",
    "            ratings[movie_id] = (\n",
    "                self.ratings[user1_id][movie_id]['rating'],\n",
    "                self.ratings[user2_id][movie_id]['rating'],\n",
    "            )\n",
    "\n",
    "        return ratings\n",
    "\n",
    "    @staticmethod\n",
    "    def shared_ratings_to_np_arrays(shared_ratings):\n",
    "        return np.array(shared_ratings.values()).T\n",
    "\n",
    "    def get_euclidean_distance(self, user1_id, user2_id):\n",
    "        shared_ratings = self.get_shared_ratings(user1_id, user2_id)\n",
    "\n",
    "        if len(shared_ratings) == 0:\n",
    "            return 0\n",
    "\n",
    "        ratings = self.shared_ratings_to_np_arrays(shared_ratings)\n",
    "\n",
    "        ratings1 = ratings[0]\n",
    "        ratings2 = ratings[1]\n",
    "\n",
    "        sum_of_squares = np.power(ratings1 - ratings2, 2).sum()\n",
    "\n",
    "        return 1 / (1 + sqrt(sum_of_squares))\n",
    "\n",
    "    def get_manhattan_distance(self, user1_id, user2_id):\n",
    "        shared_ratings = self.get_shared_ratings(user1_id, user2_id)\n",
    "\n",
    "        if len(shared_ratings) == 0:\n",
    "            return 0\n",
    "\n",
    "        ratings = self.shared_ratings_to_np_arrays(shared_ratings)\n",
    "\n",
    "        ratings1 = ratings[0]\n",
    "        ratings2 = ratings[1]\n",
    "\n",
    "        manhattan_sum = np.abs(ratings1 - ratings2).sum()\n",
    "\n",
    "        return 1 / (1 + manhattan_sum)\n",
    "\n",
    "    def get_pearson_correlation(self, user1_id, user2_id):\n",
    "        shared_ratings = self.get_shared_ratings(user1_id, user2_id)\n",
    "\n",
    "        num_ratings = len(shared_ratings)\n",
    "\n",
    "        if num_ratings == 0:\n",
    "            return 0\n",
    "\n",
    "        ratings = self.shared_ratings_to_np_arrays(shared_ratings)\n",
    "\n",
    "        ratings1 = ratings[0]\n",
    "        ratings2 = ratings[1]\n",
    "\n",
    "        mean1 = ratings1.mean()\n",
    "        mean2 = ratings2.mean()\n",
    "\n",
    "        std1 = ratings1.std()\n",
    "        std2 = ratings2.std()\n",
    "\n",
    "        if std1 == 0 or std2 == 0:\n",
    "            return 0\n",
    "\n",
    "        std_scores_1 = (ratings1 - mean1) / std1\n",
    "        std_scores_2 = (ratings2 - mean2) / std2\n",
    "\n",
    "        # numerically stable calculation of the Pearson correlation coefficient\n",
    "\n",
    "        return abs((std_scores_1 * std_scores_2).sum() / (num_ratings - 1))\n",
    "\n",
    "        \n",
    "movie_data = MovieData()"
   ]
  },
  {
   "cell_type": "markdown",
   "metadata": {},
   "source": [
    "# Explore shared ratings"
   ]
  },
  {
   "cell_type": "code",
   "execution_count": 9,
   "metadata": {
    "collapsed": false,
    "scrolled": false
   },
   "outputs": [
    {
     "name": "stdout",
     "output_type": "stream",
     "text": [
      "pair  1, user1 movies:  114, user2 movies:   73, shared movies:  18\n",
      "pair  2, user1 movies:   92, user2 movies:  129, shared movies:  11\n",
      "pair  3, user1 movies:   33, user2 movies:   34, shared movies:   1\n",
      "pair  4, user1 movies:   26, user2 movies:   29, shared movies:   1\n",
      "pair  5, user1 movies:  132, user2 movies:   39, shared movies:   9\n",
      "pair  6, user1 movies:  231, user2 movies:   38, shared movies:   4\n",
      "pair  7, user1 movies:   32, user2 movies:   42, shared movies:   0\n",
      "pair  8, user1 movies:  437, user2 movies:   51, shared movies:  14\n",
      "pair  9, user1 movies:   63, user2 movies:  217, shared movies:  11\n",
      "pair 10, user1 movies:   20, user2 movies:  123, shared movies:   0\n",
      "pair 11, user1 movies:  187, user2 movies:  183, shared movies:  50\n",
      "pair 12, user1 movies:   27, user2 movies:   53, shared movies:   1\n",
      "pair 13, user1 movies:   26, user2 movies:  400, shared movies:   3\n",
      "pair 14, user1 movies:   45, user2 movies:   20, shared movies:   1\n",
      "pair 15, user1 movies:  192, user2 movies:   45, shared movies:   2\n",
      "pair 16, user1 movies:   25, user2 movies:  138, shared movies:   0\n",
      "pair 17, user1 movies:   55, user2 movies:  128, shared movies:   5\n",
      "pair 18, user1 movies:   39, user2 movies:   20, shared movies:   0\n",
      "pair 19, user1 movies:  285, user2 movies:  150, shared movies:  29\n",
      "pair 20, user1 movies:   23, user2 movies:   98, shared movies:   3\n",
      "pair 21, user1 movies: 1610, user2 movies:  177, shared movies: 107\n",
      "pair 22, user1 movies:   51, user2 movies:  487, shared movies:  33\n",
      "pair 23, user1 movies:  483, user2 movies:   20, shared movies:   7\n",
      "pair 24, user1 movies:   58, user2 movies:  103, shared movies:  15\n",
      "pair 25, user1 movies:   23, user2 movies:   26, shared movies:   1\n",
      "pair 26, user1 movies:   21, user2 movies:  263, shared movies:   9\n",
      "pair 27, user1 movies:  626, user2 movies:  115, shared movies:  82\n",
      "pair 28, user1 movies:  155, user2 movies:  210, shared movies:  42\n",
      "pair 29, user1 movies:   22, user2 movies:   61, shared movies:   4\n",
      "pair 30, user1 movies:   69, user2 movies:  922, shared movies:  53\n"
     ]
    }
   ],
   "source": [
    "def explore_shared_ratings(movie_data):\n",
    "    unique_user_ids = movie_data.ratings_df['userId'].unique()\n",
    "\n",
    "    n_pairs = 30\n",
    "    samples = np.random.choice(unique_user_ids, size=(n_pairs, 2))\n",
    "\n",
    "    for index, sample in enumerate(samples):\n",
    "        user1_id = sample[0]\n",
    "        user2_id = sample[1]\n",
    "\n",
    "        num_movies_1 = len(movie_data.get_movies(user1_id))\n",
    "        num_movies_2 = len(movie_data.get_movies(user2_id))\n",
    "\n",
    "        num_shared_ratings = len(movie_data.get_shared_ratings(user1_id, user2_id))\n",
    "\n",
    "        print 'pair %2d, user1 movies: %4d, user2 movies: %4d, shared movies: %3d' % (\n",
    "            index + 1, num_movies_1, num_movies_2, num_shared_ratings)\n",
    "\n",
    "        \n",
    "explore_shared_ratings(movie_data)"
   ]
  },
  {
   "cell_type": "markdown",
   "metadata": {},
   "source": [
    "# Explore distances"
   ]
  },
  {
   "cell_type": "markdown",
   "metadata": {},
   "source": [
    "We are looking at 30 random user pairs. We can notice how small on average is the intersection of the movies they rated (compared to the their total number of ratings).\n",
    "It's not unusual to see zero intersection or just a couple of movies.\n",
    "\n",
    "We could build a histogram of the distribution of number of shared movies if we generate a lot of random pairs."
   ]
  },
  {
   "cell_type": "code",
   "execution_count": 5,
   "metadata": {
    "collapsed": false
   },
   "outputs": [
    {
     "name": "stdout",
     "output_type": "stream",
     "text": [
      "pair  1, shared movies:   3, euclidean: 0.250, manhattan: 0.167, pearson: 0.416\n",
      "pair  2, shared movies:   1, euclidean: 0.500, manhattan: 0.500, pearson: 0.000\n",
      "pair  3, shared movies:   3, euclidean: 0.309, manhattan: 0.250, pearson: 0.750\n",
      "pair  4, shared movies:   2, euclidean: 0.500, manhattan: 0.500, pearson: 0.000\n",
      "pair  5, shared movies:  12, euclidean: 0.179, manhattan: 0.071, pearson: 0.397\n",
      "pair  6, shared movies:  25, euclidean: 0.149, manhattan: 0.038, pearson: 0.454\n",
      "pair  7, shared movies:   4, euclidean: 0.366, manhattan: 0.250, pearson: 1.333\n",
      "pair  8, shared movies:  27, euclidean: 0.112, manhattan: 0.029, pearson: 0.100\n",
      "pair  9, shared movies:   2, euclidean: 0.500, manhattan: 0.500, pearson: 0.000\n",
      "pair 10, shared movies:   5, euclidean: 0.309, manhattan: 0.250, pearson: 0.000\n",
      "pair 11, shared movies:  10, euclidean: 0.209, manhattan: 0.095, pearson: 0.045\n",
      "pair 12, shared movies:   3, euclidean: 0.357, manhattan: 0.286, pearson: 0.000\n",
      "pair 13, shared movies:  23, euclidean: 0.145, manhattan: 0.053, pearson: 0.221\n",
      "pair 14, shared movies:  90, euclidean: 0.097, manhattan: 0.016, pearson: 0.245\n",
      "pair 15, shared movies:  29, euclidean: 0.187, manhattan: 0.048, pearson: 0.524\n",
      "pair 16, shared movies:   6, euclidean: 0.274, manhattan: 0.167, pearson: 0.321\n",
      "pair 17, shared movies:   5, euclidean: 0.228, manhattan: 0.143, pearson: 0.915\n",
      "pair 18, shared movies:   6, euclidean: 0.286, manhattan: 0.154, pearson: 0.076\n",
      "pair 19, shared movies:   6, euclidean: 0.204, manhattan: 0.118, pearson: 0.355\n",
      "pair 20, shared movies:  13, euclidean: 0.232, manhattan: 0.091, pearson: 0.052\n",
      "pair 21, shared movies:   3, euclidean: 0.376, manhattan: 0.286, pearson: 0.000\n",
      "pair 22, shared movies:  18, euclidean: 0.123, manhattan: 0.043, pearson: 0.362\n",
      "pair 23, shared movies:   6, euclidean: 0.161, manhattan: 0.087, pearson: 0.175\n",
      "pair 24, shared movies:   6, euclidean: 0.253, manhattan: 0.154, pearson: 0.669\n",
      "pair 25, shared movies:   0, euclidean: 0.000, manhattan: 0.000, pearson: 0.000\n",
      "pair 26, shared movies:   0, euclidean: 0.000, manhattan: 0.000, pearson: 0.000\n",
      "pair 27, shared movies:   0, euclidean: 0.000, manhattan: 0.000, pearson: 0.000\n",
      "pair 28, shared movies:   5, euclidean: 0.274, manhattan: 0.167, pearson: 0.208\n",
      "pair 29, shared movies:   3, euclidean: 0.282, manhattan: 0.250, pearson: 0.750\n",
      "pair 30, shared movies:  20, euclidean: 0.153, manhattan: 0.049, pearson: 0.049\n"
     ]
    }
   ],
   "source": [
    "def explore_distances(movie_data):\n",
    "    unique_user_ids = movie_data.ratings_df['userId'].unique()\n",
    "\n",
    "    n_pairs = 30\n",
    "    samples = np.random.choice(unique_user_ids, size=(n_pairs, 2))\n",
    "\n",
    "    for index, sample in enumerate(samples):\n",
    "        user1_id = sample[0]\n",
    "        user2_id = sample[1]\n",
    "\n",
    "        num_shared_ratings = len(movie_data.get_shared_ratings(user1_id, user2_id))\n",
    "\n",
    "        euclidean_distance = movie_data.get_euclidean_distance(user1_id, user2_id)\n",
    "        manhattan_distance = movie_data.get_manhattan_distance(user1_id, user2_id)\n",
    "        pearson_correlation = movie_data.get_pearson_correlation(user1_id, user2_id)\n",
    "\n",
    "        print 'pair %2d, shared movies: %3d, euclidean: %.3f, manhattan: %.3f, pearson: %.3f' % (\n",
    "            index + 1, num_shared_ratings, euclidean_distance, manhattan_distance, pearson_correlation)\n",
    "\n",
    "        \n",
    "explore_distances(movie_data)"
   ]
  },
  {
   "cell_type": "markdown",
   "metadata": {},
   "source": [
    "Various distances (euclidean, manhattan, pearson correlation).\n",
    "\n",
    "Other possible distances: Tantimoto, cosine.\n",
    "\n",
    "Jaccard distance is not really applicable in this case since we have a range of ratings."
   ]
  },
  {
   "cell_type": "code",
   "execution_count": null,
   "metadata": {
    "collapsed": true
   },
   "outputs": [],
   "source": []
  }
 ],
 "metadata": {
  "anaconda-cloud": {},
  "kernelspec": {
   "display_name": "Python 2",
   "language": "python",
   "name": "python2"
  },
  "language_info": {
   "codemirror_mode": {
    "name": "ipython",
    "version": 2
   },
   "file_extension": ".py",
   "mimetype": "text/x-python",
   "name": "python",
   "nbconvert_exporter": "python",
   "pygments_lexer": "ipython2",
   "version": "2.7.12"
  }
 },
 "nbformat": 4,
 "nbformat_minor": 1
}
